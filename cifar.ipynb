{
 "cells": [
  {
   "cell_type": "code",
   "execution_count": 18,
   "metadata": {},
   "outputs": [
    {
     "name": "stdout",
     "output_type": "stream",
     "text": [
      "\u001b[33mWARNING: Running pip as the 'root' user can result in broken permissions and conflicting behaviour with the system package manager. It is recommended to use a virtual environment instead: https://pip.pypa.io/warnings/venv\u001b[0m\u001b[33m\n",
      "\u001b[0mNote: you may need to restart the kernel to use updated packages.\n"
     ]
    }
   ],
   "source": [
    "%pip install torchmetrics --quiet"
   ]
  },
  {
   "attachments": {},
   "cell_type": "markdown",
   "metadata": {},
   "source": [
    "3. Cifar10 Dataset. Usar 10% del conjunto de prueba para validación en el entrenamiento. Reportar valor de perdida y exactitud para\n",
    "entrenamiento y prueba. Proponer CNN procurando obtener resultados reportados entre el 45% - 71% de exactitud (LINK tener reservas de\n",
    "los resultados reportados)."
   ]
  },
  {
   "cell_type": "code",
   "execution_count": 19,
   "metadata": {},
   "outputs": [
    {
     "name": "stdout",
     "output_type": "stream",
     "text": [
      "Files already downloaded and verified\n",
      "Files already downloaded and verified\n"
     ]
    }
   ],
   "source": [
    "import torch\n",
    "import torchvision\n",
    "import torchvision.transforms as transforms\n",
    "\n",
    "transform = transforms.Compose([\n",
    "    transforms.ToTensor(),\n",
    "    transforms.Normalize((0.5, 0.5, 0.5), (0.5, 0.5, 0.5)),\n",
    "])\n",
    "\n",
    "cifar_trainset = torchvision.datasets.CIFAR10(root='./data',\n",
    "                                              train=True,\n",
    "                                              download=True,\n",
    "                                              transform=transform)\n",
    "cifar_testset = torchvision.datasets.CIFAR10(root='./data', \n",
    "                                             train=False, \n",
    "                                             download=True,\n",
    "                                             transform=transform)"
   ]
  },
  {
   "cell_type": "code",
   "execution_count": 20,
   "metadata": {},
   "outputs": [
    {
     "data": {
      "text/plain": [
       "(tensor([[[-0.5373, -0.6627, -0.6078,  ...,  0.2392,  0.1922,  0.1608],\n",
       "          [-0.8745, -1.0000, -0.8588,  ..., -0.0353, -0.0667, -0.0431],\n",
       "          [-0.8039, -0.8745, -0.6157,  ..., -0.0745, -0.0588, -0.1451],\n",
       "          ...,\n",
       "          [ 0.6314,  0.5765,  0.5529,  ...,  0.2549, -0.5608, -0.5843],\n",
       "          [ 0.4118,  0.3569,  0.4588,  ...,  0.4431, -0.2392, -0.3490],\n",
       "          [ 0.3882,  0.3176,  0.4039,  ...,  0.6941,  0.1843, -0.0353]],\n",
       " \n",
       "         [[-0.5137, -0.6392, -0.6235,  ...,  0.0353, -0.0196, -0.0275],\n",
       "          [-0.8431, -1.0000, -0.9373,  ..., -0.3098, -0.3490, -0.3176],\n",
       "          [-0.8118, -0.9451, -0.7882,  ..., -0.3412, -0.3412, -0.4275],\n",
       "          ...,\n",
       "          [ 0.3333,  0.2000,  0.2627,  ...,  0.0431, -0.7569, -0.7333],\n",
       "          [ 0.0902, -0.0353,  0.1294,  ...,  0.1608, -0.5137, -0.5843],\n",
       "          [ 0.1294,  0.0118,  0.1137,  ...,  0.4431, -0.0745, -0.2784]],\n",
       " \n",
       "         [[-0.5059, -0.6471, -0.6627,  ..., -0.1529, -0.2000, -0.1922],\n",
       "          [-0.8431, -1.0000, -1.0000,  ..., -0.5686, -0.6078, -0.5529],\n",
       "          [-0.8353, -1.0000, -0.9373,  ..., -0.6078, -0.6078, -0.6706],\n",
       "          ...,\n",
       "          [-0.2471, -0.7333, -0.7961,  ..., -0.4510, -0.9451, -0.8431],\n",
       "          [-0.2471, -0.6706, -0.7647,  ..., -0.2627, -0.7333, -0.7333],\n",
       "          [-0.0902, -0.2627, -0.3176,  ...,  0.0980, -0.3412, -0.4353]]]),\n",
       " 6)"
      ]
     },
     "execution_count": 20,
     "metadata": {},
     "output_type": "execute_result"
    }
   ],
   "source": [
    "next(iter(cifar_trainset))"
   ]
  },
  {
   "attachments": {},
   "cell_type": "markdown",
   "metadata": {},
   "source": [
    "Usar 10% del conjunto de prueba para validación en el entrenamiento."
   ]
  },
  {
   "cell_type": "code",
   "execution_count": 21,
   "metadata": {},
   "outputs": [
    {
     "name": "stdout",
     "output_type": "stream",
     "text": [
      "Tamaño del conjunto de entrenamiento: 50000\n",
      "Tamaño del conjunto de prueba: 9000\n",
      "Tamaño del conjunto de validación: 1000\n"
     ]
    }
   ],
   "source": [
    "from torch.utils.data import random_split\n",
    "\n",
    "test_dataset_size = len(cifar_testset)\n",
    "\n",
    "validation_size = int(test_dataset_size * 0.1)\n",
    "test_size = test_dataset_size - validation_size\n",
    "\n",
    "cifar_validationset, cifar_testset = random_split(cifar_testset,[validation_size, test_size])\n",
    "\n",
    "print(f\"Tamaño del conjunto de entrenamiento: {len(cifar_trainset)}\")\n",
    "print(f\"Tamaño del conjunto de prueba: {len(cifar_testset)}\")\n",
    "print(f\"Tamaño del conjunto de validación: {len(cifar_validationset)}\")"
   ]
  },
  {
   "cell_type": "code",
   "execution_count": 22,
   "metadata": {},
   "outputs": [],
   "source": [
    "from torch.utils.data import DataLoader\n",
    "\n",
    "batch_size = 128\n",
    "\n",
    "train_data = DataLoader(dataset=cifar_trainset,\n",
    "                        batch_size=batch_size,\n",
    "                        num_workers=2,\n",
    "                        shuffle=True)\n",
    "\n",
    "test_data = DataLoader(dataset=cifar_testset,\n",
    "                       batch_size=batch_size,\n",
    "                       num_workers=2)\n",
    "\n",
    "val_data = DataLoader(dataset=cifar_validationset,\n",
    "                      batch_size=batch_size,\n",
    "                      num_workers=2)\n",
    "\n",
    "classes = ('plane', 'car', 'bird', 'cat',\n",
    "           'deer', 'dog', 'frog', 'horse', 'ship', 'truck')"
   ]
  },
  {
   "cell_type": "code",
   "execution_count": 23,
   "metadata": {},
   "outputs": [
    {
     "data": {
      "text/plain": [
       "NeuralNetwork(\n",
       "  (network): Sequential(\n",
       "    (0): Conv2d(3, 6, kernel_size=(5, 5), stride=(1, 1))\n",
       "    (1): ReLU()\n",
       "    (2): MaxPool2d(kernel_size=2, stride=2, padding=0, dilation=1, ceil_mode=False)\n",
       "    (3): Conv2d(6, 16, kernel_size=(5, 5), stride=(1, 1))\n",
       "    (4): ReLU()\n",
       "    (5): MaxPool2d(kernel_size=2, stride=2, padding=0, dilation=1, ceil_mode=False)\n",
       "    (6): Flatten(start_dim=1, end_dim=-1)\n",
       "    (7): Linear(in_features=400, out_features=120, bias=True)\n",
       "    (8): ReLU()\n",
       "    (9): Linear(in_features=120, out_features=84, bias=True)\n",
       "    (10): ReLU()\n",
       "    (11): Linear(in_features=84, out_features=10, bias=True)\n",
       "  )\n",
       ")"
      ]
     },
     "execution_count": 23,
     "metadata": {},
     "output_type": "execute_result"
    }
   ],
   "source": [
    "import torch\n",
    "import torch.nn as nn\n",
    "\n",
    "class NeuralNetwork(nn.Module):\n",
    "    def __init__(self, num_classes):\n",
    "        super(NeuralNetwork, self).__init__()\n",
    "\n",
    "        self.network = nn.Sequential(\n",
    "            nn.Conv2d(in_channels=3, out_channels=6, kernel_size=5, stride=1),\n",
    "            nn.ReLU(),\n",
    "            nn.MaxPool2d(2, 2),\n",
    "\n",
    "            nn.Conv2d(in_channels=6, out_channels=16, kernel_size=5, stride=1),\n",
    "            nn.ReLU(),\n",
    "            nn.MaxPool2d(2, 2),\n",
    "\n",
    "            nn.Flatten(),\n",
    "            nn.Linear(in_features=16 * 5 * 5, out_features=120),\n",
    "            nn.ReLU(),\n",
    "\n",
    "            nn.Linear(in_features=120, out_features=84),\n",
    "            nn.ReLU(),\n",
    "\n",
    "            nn.Linear(in_features=84, out_features=num_classes)\n",
    "        )\n",
    "\n",
    "    def forward(self, x):\n",
    "        return self.network(x)\n",
    "\n",
    "model = NeuralNetwork(num_classes=len(classes))\n",
    "model"
   ]
  },
  {
   "cell_type": "code",
   "execution_count": 24,
   "metadata": {},
   "outputs": [
    {
     "name": "stdout",
     "output_type": "stream",
     "text": [
      "Mon May  8 04:27:30 2023       \n",
      "+-----------------------------------------------------------------------------+\n",
      "| NVIDIA-SMI 510.73.05    Driver Version: 510.73.05    CUDA Version: 11.6     |\n",
      "|-------------------------------+----------------------+----------------------+\n",
      "| GPU  Name        Persistence-M| Bus-Id        Disp.A | Volatile Uncorr. ECC |\n",
      "| Fan  Temp  Perf  Pwr:Usage/Cap|         Memory-Usage | GPU-Util  Compute M. |\n",
      "|                               |                      |               MIG M. |\n",
      "|===============================+======================+======================|\n",
      "|   0  Quadro P5000        Off  | 00000000:00:05.0 Off |                  Off |\n",
      "| 26%   27C    P8     6W / 180W |   1768MiB / 16384MiB |      0%      Default |\n",
      "|                               |                      |                  N/A |\n",
      "+-------------------------------+----------------------+----------------------+\n",
      "                                                                               \n",
      "+-----------------------------------------------------------------------------+\n",
      "| Processes:                                                                  |\n",
      "|  GPU   GI   CI        PID   Type   Process name                  GPU Memory |\n",
      "|        ID   ID                                                   Usage      |\n",
      "|=============================================================================|\n",
      "+-----------------------------------------------------------------------------+\n"
     ]
    },
    {
     "data": {
      "text/plain": [
       "device(type='cuda')"
      ]
     },
     "execution_count": 24,
     "metadata": {},
     "output_type": "execute_result"
    }
   ],
   "source": [
    "import torch\n",
    "\n",
    "def get_device():\n",
    "    device = \"\"\n",
    "    if torch.cuda.is_available():\n",
    "        !nvidia-smi\n",
    "        device = torch.device('cuda')\n",
    "    else:\n",
    "        device = torch.device('cpu')\n",
    "\n",
    "    return device\n",
    "\n",
    "device = get_device()\n",
    "device"
   ]
  },
  {
   "cell_type": "code",
   "execution_count": 25,
   "metadata": {},
   "outputs": [],
   "source": [
    "import torch.optim as optim\n",
    "\n",
    "criterion = nn.CrossEntropyLoss()\n",
    "optimizer = optim.SGD(model.parameters(), lr=0.001, momentum=0.9)"
   ]
  },
  {
   "cell_type": "code",
   "execution_count": 26,
   "metadata": {},
   "outputs": [],
   "source": [
    "import numpy as np\n",
    "\n",
    "from pytorchtools import EarlyStopping\n",
    "from torchmetrics.classification import Accuracy\n",
    "\n",
    "def train_early(model, patience, epochs, num_classes):\n",
    "    train_losses = []\n",
    "    valid_losses = []\n",
    "\n",
    "    avg_train_losses = []\n",
    "    avg_valid_losses = []\n",
    "\n",
    "    early_stopping = EarlyStopping(patience=patience, verbose=True)\n",
    "\n",
    "    accuracy = Accuracy(task=\"multiclass\", num_classes=num_classes)\n",
    "\n",
    "    model = model.to(device)\n",
    "\n",
    "    for epoch in range(epochs):\n",
    "        running_loss = 0.0\n",
    "        running_val_loss = 0.0\n",
    "        model.train()\n",
    "        for batch, (images, labels) in enumerate(train_data):\n",
    "            images = images.to(device)\n",
    "            labels = labels.to(device)\n",
    "\n",
    "            optimizer.zero_grad()\n",
    "            outputs = model(images)\n",
    "            loss = criterion(outputs, labels)\n",
    "            loss.backward()\n",
    "            optimizer.step()\n",
    "\n",
    "            running_loss += loss.item()\n",
    "            train_losses.append(loss.item())\n",
    "\n",
    "            if batch % 500 == 0:\n",
    "                print(f'Epoch: {epoch+1}/{epochs} | Batch: {batch+1}/{len(train_data)} | Loss: {running_loss/100:.4f}')\n",
    "                running_loss = 0.0\n",
    "\n",
    "        # Validación del model\n",
    "        model.eval()\n",
    "        with torch.no_grad():\n",
    "            for _, (images, labels) in enumerate(val_data):\n",
    "                images = images.to(device)\n",
    "                labels = labels.to(device)\n",
    "\n",
    "                outputs = model(images)\n",
    "\n",
    "                _, predicted = torch.max(outputs, 1)\n",
    "\n",
    "                loss = criterion(outputs, labels)\n",
    "\n",
    "                accuracy.update(predicted.to('cpu'), labels.to('cpu'))\n",
    "\n",
    "                running_val_loss += loss.item()\n",
    "                valid_losses.append(loss.item())\n",
    "\n",
    "        acc = accuracy.compute()\n",
    "        print(f\"Running Accuracy: {acc}\")\n",
    "\n",
    "        train_loss = np.average(train_losses)\n",
    "        valid_loss = np.average(valid_losses)\n",
    "        avg_train_losses.append(train_loss)\n",
    "        avg_valid_losses.append(valid_loss)\n",
    "\n",
    "        print(f'Epoch: {epoch+1}/{epochs} | Train Loss: {train_loss:.4f} | Valid Loss: {valid_loss:.4f}')\n",
    "\n",
    "        train_losses = []\n",
    "        valid_losses = []\n",
    "\n",
    "        early_stopping(valid_loss, model)\n",
    "\n",
    "        if early_stopping.early_stop:\n",
    "            print(f'Early stopping at epoch {epoch+1}')\n",
    "            break\n",
    "\n",
    "\n",
    "    model.load_state_dict(torch.load('checkpoint.pt'))\n",
    "\n",
    "    print(f\"Accuracy promedio: {accuracy.compute()}\")\n",
    "\n",
    "    return model, avg_train_losses, avg_valid_losses"
   ]
  },
  {
   "cell_type": "code",
   "execution_count": 27,
   "metadata": {},
   "outputs": [
    {
     "name": "stdout",
     "output_type": "stream",
     "text": [
      "Epoch: 1/15 | Batch: 1/391 | Loss: 0.0231\n",
      "Running Accuracy: 0.12300000339746475\n",
      "Epoch: 1/15 | Train Loss: 2.3031 | Valid Loss: 2.2967\n",
      "Validation loss decreased (inf --> 2.296658).  Saving model ...\n",
      "Epoch: 2/15 | Batch: 1/391 | Loss: 0.0230\n",
      "Running Accuracy: 0.1550000011920929\n",
      "Epoch: 2/15 | Train Loss: 2.2911 | Valid Loss: 2.2746\n",
      "Validation loss decreased (2.296658 --> 2.274588).  Saving model ...\n",
      "Epoch: 3/15 | Batch: 1/391 | Loss: 0.0228\n",
      "Running Accuracy: 0.19200000166893005\n",
      "Epoch: 3/15 | Train Loss: 2.2077 | Valid Loss: 2.0718\n",
      "Validation loss decreased (2.274588 --> 2.071824).  Saving model ...\n",
      "Epoch: 4/15 | Batch: 1/391 | Loss: 0.0213\n",
      "Running Accuracy: 0.22200000286102295\n",
      "Epoch: 4/15 | Train Loss: 2.0243 | Valid Loss: 1.9267\n",
      "Validation loss decreased (2.071824 --> 1.926713).  Saving model ...\n",
      "Epoch: 5/15 | Batch: 1/391 | Loss: 0.0203\n",
      "Running Accuracy: 0.25099998712539673\n",
      "Epoch: 5/15 | Train Loss: 1.9060 | Valid Loss: 1.8161\n",
      "Validation loss decreased (1.926713 --> 1.816128).  Saving model ...\n",
      "Epoch: 6/15 | Batch: 1/391 | Loss: 0.0183\n",
      "Running Accuracy: 0.2758333384990692\n",
      "Epoch: 6/15 | Train Loss: 1.8140 | Valid Loss: 1.7051\n",
      "Validation loss decreased (1.816128 --> 1.705100).  Saving model ...\n",
      "Epoch: 7/15 | Batch: 1/391 | Loss: 0.0180\n",
      "Running Accuracy: 0.2961428463459015\n",
      "Epoch: 7/15 | Train Loss: 1.7155 | Valid Loss: 1.5981\n",
      "Validation loss decreased (1.705100 --> 1.598137).  Saving model ...\n",
      "Epoch: 8/15 | Batch: 1/391 | Loss: 0.0167\n",
      "Running Accuracy: 0.31187498569488525\n",
      "Epoch: 8/15 | Train Loss: 1.6359 | Valid Loss: 1.5373\n",
      "Validation loss decreased (1.598137 --> 1.537337).  Saving model ...\n",
      "Epoch: 9/15 | Batch: 1/391 | Loss: 0.0157\n",
      "Running Accuracy: 0.32688888907432556\n",
      "Epoch: 9/15 | Train Loss: 1.5833 | Valid Loss: 1.4807\n",
      "Validation loss decreased (1.537337 --> 1.480651).  Saving model ...\n",
      "Epoch: 10/15 | Batch: 1/391 | Loss: 0.0161\n",
      "Running Accuracy: 0.3424000144004822\n",
      "Epoch: 10/15 | Train Loss: 1.5424 | Valid Loss: 1.4601\n",
      "Validation loss decreased (1.480651 --> 1.460135).  Saving model ...\n",
      "Epoch: 11/15 | Batch: 1/391 | Loss: 0.0140\n",
      "Running Accuracy: 0.35463637113571167\n",
      "Epoch: 11/15 | Train Loss: 1.5118 | Valid Loss: 1.4314\n",
      "Validation loss decreased (1.460135 --> 1.431437).  Saving model ...\n",
      "Epoch: 12/15 | Batch: 1/391 | Loss: 0.0147\n",
      "Running Accuracy: 0.367333322763443\n",
      "Epoch: 12/15 | Train Loss: 1.4807 | Valid Loss: 1.4117\n",
      "Validation loss decreased (1.431437 --> 1.411713).  Saving model ...\n",
      "Epoch: 13/15 | Batch: 1/391 | Loss: 0.0146\n",
      "Running Accuracy: 0.3763846158981323\n",
      "Epoch: 13/15 | Train Loss: 1.4536 | Valid Loss: 1.3968\n",
      "Validation loss decreased (1.411713 --> 1.396826).  Saving model ...\n",
      "Epoch: 14/15 | Batch: 1/391 | Loss: 0.0133\n",
      "Running Accuracy: 0.38607141375541687\n",
      "Epoch: 14/15 | Train Loss: 1.4271 | Valid Loss: 1.3463\n",
      "Validation loss decreased (1.396826 --> 1.346250).  Saving model ...\n",
      "Epoch: 15/15 | Batch: 1/391 | Loss: 0.0140\n",
      "Running Accuracy: 0.39666667580604553\n",
      "Epoch: 15/15 | Train Loss: 1.4031 | Valid Loss: 1.3302\n",
      "Validation loss decreased (1.346250 --> 1.330195).  Saving model ...\n",
      "Accuracy promedio: 0.39666667580604553\n"
     ]
    }
   ],
   "source": [
    "patience = 2\n",
    "epochs = 15\n",
    "num_classes = 10\n",
    "\n",
    "model, train_loss, valid_loss = train_early(model, \n",
    "                                      patience, \n",
    "                                      epochs, \n",
    "                                      num_classes)"
   ]
  },
  {
   "cell_type": "code",
   "execution_count": 28,
   "metadata": {},
   "outputs": [
    {
     "data": {
      "image/png": "[encoded data removed]",
      "text/plain": [
       "<Figure size 640x480 with 1 Axes>"
      ]
     },
     "metadata": {},
     "output_type": "display_data"
    }
   ],
   "source": [
    "import matplotlib.pyplot as plt\n",
    "\n",
    "# Generate x-axis values based on the number of epochs\n",
    "epochs = range(1, len(train_loss) + 1)\n",
    "\n",
    "# Plotting the train_loss and valid_loss\n",
    "plt.plot(epochs, train_loss, label='Train Loss')\n",
    "plt.plot(epochs, valid_loss, label='Validation Loss')\n",
    "\n",
    "# Find the index of the minimum validation loss\n",
    "min_valid_loss_idx = valid_loss.index(min(valid_loss))\n",
    "\n",
    "# Add a vertical line to mark the early stopping checkpoint\n",
    "plt.axvline(x=min_valid_loss_idx + 1, linestyle='--', color='r', label='Early Stopping Checkpoint')\n",
    "\n",
    "# Set labels and title\n",
    "plt.xlabel('Epochs')\n",
    "plt.ylabel('Loss')\n",
    "plt.title('Train and Validation Loss')\n",
    "plt.grid(True)\n",
    "\n",
    "# Show legend\n",
    "plt.legend()\n",
    "\n",
    "# Display the plot\n",
    "plt.show()"
   ]
  },
  {
   "cell_type": "code",
   "execution_count": 29,
   "metadata": {},
   "outputs": [
    {
     "name": "stdout",
     "output_type": "stream",
     "text": [
      "Accuracy: 0.4968888759613037\n"
     ]
    }
   ],
   "source": [
    "from torchmetrics.classification import Accuracy\n",
    "\n",
    "\n",
    "def test(model):\n",
    "    accuracy = Accuracy(task=\"multiclass\", num_classes=num_classes)\n",
    "\n",
    "    with torch.no_grad():\n",
    "        model.eval()\n",
    "\n",
    "        for data in test_data:\n",
    "            inputs, labels = data\n",
    "            \n",
    "            inputs = inputs.to(device)\n",
    "            labels = labels.to(device)\n",
    "            \n",
    "            outputs = model(inputs)\n",
    "\n",
    "            _, predicted = torch.max(outputs.data, 1)\n",
    "\n",
    "            acc = accuracy.forward(predicted.to('cpu'), labels.to('cpu'))\n",
    "\n",
    "        print(f\"Accuracy: {accuracy.compute()}\")\n",
    "\n",
    "\n",
    "test(model)"
   ]
  },
  {
   "cell_type": "code",
   "execution_count": null,
   "metadata": {},
   "outputs": [],
   "source": []
  },
  {
   "cell_type": "code",
   "execution_count": 30,
   "metadata": {},
   "outputs": [],
   "source": [
    "import torch.optim as optim\n",
    "\n",
    "model = NeuralNetwork(num_classes=len(classes))\n",
    "\n",
    "criterion = nn.CrossEntropyLoss()\n",
    "optimizer = optim.SGD(model.parameters(), lr=0.001, momentum=0.9)"
   ]
  },
  {
   "cell_type": "code",
   "execution_count": 31,
   "metadata": {},
   "outputs": [],
   "source": [
    "import numpy as np\n",
    "from torchmetrics.classification import Accuracy\n",
    "\n",
    "def train_full(model, epochs, num_classes):\n",
    "    train_losses = []\n",
    "    valid_losses = []\n",
    "\n",
    "    avg_train_losses = []\n",
    "    avg_valid_losses = []\n",
    "\n",
    "    accuracy = Accuracy(task=\"multiclass\", num_classes=num_classes)\n",
    "\n",
    "    model = model.to(device)\n",
    "\n",
    "    for epoch in range(epochs):\n",
    "        running_loss = 0.0\n",
    "        running_val_loss = 0.0\n",
    "        model.train()\n",
    "        for batch, (images, labels) in enumerate(train_data):\n",
    "            images = images.to(device)\n",
    "            labels = labels.to(device)\n",
    "\n",
    "            optimizer.zero_grad()\n",
    "            outputs = model(images)\n",
    "            loss = criterion(outputs, labels)\n",
    "            loss.backward()\n",
    "            optimizer.step()\n",
    "\n",
    "            running_loss += loss.item()\n",
    "            train_losses.append(loss.item())\n",
    "\n",
    "            if batch % 500 == 0:\n",
    "                print(f'Epoch: {epoch+1}/{epochs} | Batch: {batch+1}/{len(train_data)} | Loss: {running_loss/100:.4f}')\n",
    "                running_loss = 0.0\n",
    "\n",
    "        # Validación del model\n",
    "        model.eval()\n",
    "        with torch.no_grad():\n",
    "            for _, (images, labels) in enumerate(val_data):\n",
    "                images = images.to(device)\n",
    "                labels = labels.to(device)\n",
    "\n",
    "                outputs = model(images)\n",
    "\n",
    "                _, predicted = torch.max(outputs, 1)\n",
    "\n",
    "                loss = criterion(outputs, labels)\n",
    "\n",
    "                accuracy.update(predicted.to('cpu'), labels.to('cpu'))\n",
    "\n",
    "                running_val_loss += loss.item()\n",
    "                valid_losses.append(loss.item())\n",
    "\n",
    "        acc = accuracy.compute()\n",
    "        print(f\"Running Accuracy: {acc}\")\n",
    "\n",
    "        train_loss = np.average(train_losses)\n",
    "        valid_loss = np.average(valid_losses)\n",
    "        avg_train_losses.append(train_loss)\n",
    "        avg_valid_losses.append(valid_loss)\n",
    "\n",
    "        print(f'Epoch: {epoch+1}/{epochs} | Train Loss: {train_loss:.4f} | Valid Loss: {valid_loss:.4f}')\n",
    "\n",
    "        train_losses = []\n",
    "        valid_losses = []\n",
    "\n",
    "    print(f\"Accuracy promedio: {accuracy.compute()}\")\n",
    "\n",
    "    return model, avg_train_losses, avg_valid_losses"
   ]
  },
  {
   "cell_type": "code",
   "execution_count": 32,
   "metadata": {},
   "outputs": [
    {
     "name": "stdout",
     "output_type": "stream",
     "text": [
      "Epoch: 1/5 | Batch: 1/391 | Loss: 0.0230\n",
      "Running Accuracy: 0.10999999940395355\n",
      "Epoch: 1/5 | Train Loss: 2.3044 | Valid Loss: 2.3025\n",
      "Epoch: 2/5 | Batch: 1/391 | Loss: 0.0230\n",
      "Running Accuracy: 0.11400000005960464\n",
      "Epoch: 2/5 | Train Loss: 2.3004 | Valid Loss: 2.2976\n",
      "Epoch: 3/5 | Batch: 1/391 | Loss: 0.0230\n",
      "Running Accuracy: 0.12700000405311584\n",
      "Epoch: 3/5 | Train Loss: 2.2921 | Valid Loss: 2.2810\n",
      "Epoch: 4/5 | Batch: 1/391 | Loss: 0.0229\n",
      "Running Accuracy: 0.15524999797344208\n",
      "Epoch: 4/5 | Train Loss: 2.2250 | Valid Loss: 2.1221\n",
      "Epoch: 5/5 | Batch: 1/391 | Loss: 0.0217\n",
      "Running Accuracy: 0.18299999833106995\n",
      "Epoch: 5/5 | Train Loss: 2.0813 | Valid Loss: 2.0075\n",
      "Accuracy promedio: 0.18299999833106995\n"
     ]
    }
   ],
   "source": [
    "epochs = 5\n",
    "num_classes = 10\n",
    "\n",
    "model, train_loss, valid_loss = train_full(model,\n",
    "                                           epochs, \n",
    "                                           num_classes)"
   ]
  },
  {
   "cell_type": "code",
   "execution_count": 33,
   "metadata": {},
   "outputs": [
    {
     "data": {
      "image/png": "[encoded data removed]",
      "text/plain": [
       "<Figure size 640x480 with 1 Axes>"
      ]
     },
     "metadata": {},
     "output_type": "display_data"
    }
   ],
   "source": [
    "import matplotlib.pyplot as plt\n",
    "\n",
    "# Generate x-axis values based on the number of epochs\n",
    "epochs = range(1, len(train_loss) + 1)\n",
    "\n",
    "# Plotting the train_loss and valid_loss\n",
    "plt.plot(epochs, train_loss, 'b', label='Train Loss')\n",
    "plt.plot(epochs, valid_loss, 'r', label='Validation Loss')\n",
    "\n",
    "# Set labels and title\n",
    "plt.xlabel('Epochs')\n",
    "plt.ylabel('Loss')\n",
    "plt.title('Train and Validation Loss')\n",
    "\n",
    "# Show legend\n",
    "plt.legend()\n",
    "\n",
    "# Display the plot\n",
    "plt.show()"
   ]
  },
  {
   "cell_type": "code",
   "execution_count": 34,
   "metadata": {},
   "outputs": [
    {
     "name": "stdout",
     "output_type": "stream",
     "text": [
      "Accuracy: 0.27355554699897766\n"
     ]
    }
   ],
   "source": [
    "test(model)"
   ]
  }
 ],
 "metadata": {
  "kernelspec": {
   "display_name": "Python 3 (ipykernel)",
   "language": "python",
   "name": "python3"
  },
  "orig_nbformat": 4
 },
 "nbformat": 4,
 "nbformat_minor": 2
}
